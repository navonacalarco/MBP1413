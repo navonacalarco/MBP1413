{
 "cells": [
  {
   "cell_type": "code",
   "execution_count": 2,
   "id": "6d92162d-0801-4b4b-ac30-1b0fad6057b4",
   "metadata": {},
   "outputs": [
    {
     "name": "stdout",
     "output_type": "stream",
     "text": [
      "Comparison result saved as 'cellProfiler_result.png'.\n"
     ]
    }
   ],
   "source": [
    "#This script highlights false positives and negatives between a predicted mask and its target\n",
    "\n",
    "import cv2\n",
    "import numpy as np\n",
    "\n",
    "# Load predicted and target images\n",
    "predicted_mask = cv2.imread('/Users/home/Desktop/CellProfiler/4f949bd8d914bbfa06f40d6a0e2b5b75c38bf53dbcbafc48c97f105bee4f8facmask.tiff', cv2.IMREAD_GRAYSCALE)\n",
    "target_image = cv2.imread('/Users/home/Library/CloudStorage/OneDrive-UHN/archive/nucleiKaggle_2018/stage1_validation_masks/4f949bd8d914bbfa06f40d6a0e2b5b75c38bf53dbcbafc48c97f105bee4f8fac/target.png')\n",
    "\n",
    "# Perform thresholding on the predicted mask\n",
    "_, predicted_mask = cv2.threshold(predicted_mask, 127, 255, cv2.THRESH_BINARY)\n",
    "\n",
    "# Convert target image to grayscale\n",
    "target_gray = cv2.cvtColor(target_image, cv2.COLOR_BGR2GRAY)\n",
    "\n",
    "# Create masks for false positives and false negatives\n",
    "false_positives = cv2.bitwise_and(predicted_mask, cv2.bitwise_not(target_gray))\n",
    "false_negatives = cv2.bitwise_and(target_gray, cv2.bitwise_not(predicted_mask))\n",
    "\n",
    "# Create an empty image to hold the result\n",
    "result_image = np.full_like(target_image, (129, 129, 130), dtype=np.uint8)  # Grey background color (hex code: #818182)\n",
    "\n",
    "# Set the common areas (true positives) to white\n",
    "result_image[np.where((predicted_mask == 255) & (target_gray == 255))] = [255, 255, 255]\n",
    "\n",
    "# Colour false positives in specified blue and false negatives in specified red\n",
    "result_image[np.where(false_positives == 255)] = [164, 84, 56]  #3854A4\n",
    "result_image[np.where(false_negatives == 255)] = [36, 32, 238]  ##EE2024\n",
    "\n",
    "# Write out \n",
    "cv2.imwrite('/Users/home/Desktop/cellProfiler_result.png', result_image)\n",
    "print(\"Comparison result saved as 'cellProfiler_result.png'.\")\n"
   ]
  },
  {
   "cell_type": "code",
   "execution_count": null,
   "id": "bcfc9a40-6ffb-4dba-856c-bf7eebcfbce2",
   "metadata": {},
   "outputs": [],
   "source": []
  },
  {
   "cell_type": "code",
   "execution_count": null,
   "id": "2421edd5-cee7-4a63-aaa2-a198863fc0b2",
   "metadata": {},
   "outputs": [],
   "source": []
  },
  {
   "cell_type": "code",
   "execution_count": null,
   "id": "c7fb24be-100a-409c-bc2d-85c9aac4edbf",
   "metadata": {},
   "outputs": [],
   "source": []
  }
 ],
 "metadata": {
  "kernelspec": {
   "display_name": "Python 3 (ipykernel)",
   "language": "python",
   "name": "python3"
  },
  "language_info": {
   "codemirror_mode": {
    "name": "ipython",
    "version": 3
   },
   "file_extension": ".py",
   "mimetype": "text/x-python",
   "name": "python",
   "nbconvert_exporter": "python",
   "pygments_lexer": "ipython3",
   "version": "3.11.5"
  }
 },
 "nbformat": 4,
 "nbformat_minor": 5
}
